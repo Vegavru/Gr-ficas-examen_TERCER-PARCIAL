{
  "nbformat": 4,
  "nbformat_minor": 0,
  "metadata": {
    "colab": {
      "provenance": [],
      "authorship_tag": "ABX9TyM9A3iJx+j2zBzrWR52aztR",
      "include_colab_link": true
    },
    "kernelspec": {
      "name": "python3",
      "display_name": "Python 3"
    },
    "language_info": {
      "name": "python"
    }
  },
  "cells": [
    {
      "cell_type": "markdown",
      "metadata": {
        "id": "view-in-github",
        "colab_type": "text"
      },
      "source": [
        "<a href=\"https://colab.research.google.com/github/Vegavru/Gr-ficas-examen_TERCER-PARCIAL/blob/main/Ejercicio_Ec_laplace.ipynb\" target=\"_parent\"><img src=\"https://colab.research.google.com/assets/colab-badge.svg\" alt=\"Open In Colab\"/></a>"
      ]
    },
    {
      "cell_type": "code",
      "execution_count": null,
      "metadata": {
        "id": "qWjZ6Hm6aWQJ"
      },
      "outputs": [],
      "source": [
        "from sympy.interactive import printing\n",
        "printing.init_printing(use_latex=True)\n",
        "from sympy import Function, dsolve, Eq,Derivative, sin, cos, symbols, simplify,real_roots\n",
        "from sympy.abc import x,y"
      ]
    },
    {
      "cell_type": "code",
      "source": [
        "X = Function('X',real=True)\n",
        "k = symbols('k',positive=True)\n",
        "f1_ode = Eq(Derivative(X(x), x, 2)-k**2*X(x))\n",
        "f1_ode\n"
      ],
      "metadata": {
        "colab": {
          "base_uri": "https://localhost:8080/",
          "height": 175
        },
        "id": "KbcDesXPb6LP",
        "outputId": "fedf7c81-d7ec-4278-d8df-9448f2c3ef0e"
      },
      "execution_count": null,
      "outputs": [
        {
          "output_type": "stream",
          "name": "stderr",
          "text": [
            "/usr/local/lib/python3.8/dist-packages/sympy/core/relational.py:492: SymPyDeprecationWarning: \n",
            "\n",
            "Eq(expr) with rhs default to 0 has been deprecated since SymPy 1.5.\n",
            "Use Eq(expr, 0) instead. See\n",
            "https://github.com/sympy/sympy/issues/16587 for more info.\n",
            "\n",
            "  SymPyDeprecationWarning(\n"
          ]
        },
        {
          "output_type": "execute_result",
          "data": {
            "text/plain": [
              "              2          \n",
              "   2         d           \n",
              "- k ⋅X(x) + ───(X(x)) = 0\n",
              "              2          \n",
              "            dx           "
            ],
            "image/png": "[encoded data removed]",
            "text/latex": "$\\displaystyle - k^{2} X{\\left(x \\right)} + \\frac{d^{2}}{d x^{2}} X{\\left(x \\right)} = 0$"
          },
          "metadata": {},
          "execution_count": 5
        }
      ]
    },
    {
      "cell_type": "code",
      "source": [
        "dsolve(f1_ode, X(x))"
      ],
      "metadata": {
        "colab": {
          "base_uri": "https://localhost:8080/",
          "height": 39
        },
        "id": "QT--4i8hc2tW",
        "outputId": "bdd47f6f-5bfd-4365-f22d-5797f2c2afe8"
      },
      "execution_count": null,
      "outputs": [
        {
          "output_type": "execute_result",
          "data": {
            "text/plain": [
              "           -k⋅x       k⋅x\n",
              "X(x) = C₁⋅ℯ     + C₂⋅ℯ   "
            ],
            "image/png": "[encoded data removed]",
            "text/latex": "$\\displaystyle X{\\left(x \\right)} = C_{1} e^{- k x} + C_{2} e^{k x}$"
          },
          "metadata": {},
          "execution_count": 6
        }
      ]
    },
    {
      "cell_type": "code",
      "source": [
        "Y = Function('Y',real=True)\n",
        "f2_ode = Eq(Derivative(Y(y), y, 2) + k**2*Y(y))\n",
        "f2_ode"
      ],
      "metadata": {
        "colab": {
          "base_uri": "https://localhost:8080/",
          "height": 57
        },
        "id": "xRrhp0vtc44R",
        "outputId": "c77da27c-63d1-4090-beac-1d3d024b4478"
      },
      "execution_count": null,
      "outputs": [
        {
          "output_type": "execute_result",
          "data": {
            "text/plain": [
              "            2          \n",
              " 2         d           \n",
              "k ⋅Y(y) + ───(Y(y)) = 0\n",
              "            2          \n",
              "          dy           "
            ],
            "image/png": "[encoded data removed]",
            "text/latex": "$\\displaystyle k^{2} Y{\\left(y \\right)} + \\frac{d^{2}}{d y^{2}} Y{\\left(y \\right)} = 0$"
          },
          "metadata": {},
          "execution_count": 8
        }
      ]
    },
    {
      "cell_type": "code",
      "source": [
        "dsolve(f2_ode, Y(y))"
      ],
      "metadata": {
        "colab": {
          "base_uri": "https://localhost:8080/",
          "height": 39
        },
        "id": "JbVZUNL9c_F0",
        "outputId": "cbdd04c2-bfcd-41a1-a43b-3a69a4964a9e"
      },
      "execution_count": null,
      "outputs": [
        {
          "output_type": "execute_result",
          "data": {
            "text/plain": [
              "Y(y) = C₁⋅sin(k⋅y) + C₂⋅cos(k⋅y)"
            ],
            "image/png": "[encoded data removed]",
            "text/latex": "$\\displaystyle Y{\\left(y \\right)} = C_{1} \\sin{\\left(k y \\right)} + C_{2} \\cos{\\left(k y \\right)}$"
          },
          "metadata": {},
          "execution_count": 9
        }
      ]
    },
    {
      "cell_type": "code",
      "source": [],
      "metadata": {
        "id": "LcnTV0ESdljf"
      },
      "execution_count": null,
      "outputs": []
    },
    {
      "cell_type": "code",
      "source": [],
      "metadata": {
        "id": "mlMCHjF8dHI_"
      },
      "execution_count": null,
      "outputs": []
    }
  ]
}